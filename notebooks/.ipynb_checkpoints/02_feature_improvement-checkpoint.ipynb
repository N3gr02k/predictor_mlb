{
 "cells": [
  {
   "cell_type": "code",
   "execution_count": 1,
   "id": "32b42536-e0b1-4dbc-be6d-624646451b80",
   "metadata": {},
   "outputs": [
    {
     "ename": "ModuleNotFoundError",
     "evalue": "No module named 'src'",
     "output_type": "error",
     "traceback": [
      "\u001b[31m---------------------------------------------------------------------------\u001b[39m",
      "\u001b[31mModuleNotFoundError\u001b[39m                       Traceback (most recent call last)",
      "\u001b[36mCell\u001b[39m\u001b[36m \u001b[39m\u001b[32mIn[1]\u001b[39m\u001b[32m, line 9\u001b[39m\n\u001b[32m      6\u001b[39m \u001b[38;5;28;01mimport\u001b[39;00m\u001b[38;5;250m \u001b[39m\u001b[34;01mos\u001b[39;00m\n\u001b[32m      8\u001b[39m \u001b[38;5;66;03m# --- IMPORTANTE: Importamos nuestra nueva función ---\u001b[39;00m\n\u001b[32m----> \u001b[39m\u001b[32m9\u001b[39m \u001b[38;5;28;01mfrom\u001b[39;00m\u001b[38;5;250m \u001b[39m\u001b[34;01msrc\u001b[39;00m\u001b[34;01m.\u001b[39;00m\u001b[34;01mfeature_engineering\u001b[39;00m\u001b[38;5;250m \u001b[39m\u001b[38;5;28;01mimport\u001b[39;00m add_pythagorean_expectation\n\u001b[32m     11\u001b[39m \u001b[38;5;28mprint\u001b[39m(\u001b[33m\"\u001b[39m\u001b[33m--- Fase 1: Mejora del Modelo con Ingeniería de Características ---\u001b[39m\u001b[33m\"\u001b[39m)\n\u001b[32m     13\u001b[39m \u001b[38;5;66;03m# 1. Cargar el dataset\u001b[39;00m\n",
      "\u001b[31mModuleNotFoundError\u001b[39m: No module named 'src'"
     ]
    }
   ],
   "source": [
    "import pandas as pd\n",
    "import joblib\n",
    "from sklearn.model_selection import train_test_split\n",
    "from sklearn.metrics import accuracy_score\n",
    "from sklearn.ensemble import RandomForestClassifier\n",
    "import os\n",
    "import sys # <-- 1. Importamos la librería 'sys'\n",
    "\n",
    "# --- 2. AÑADIMOS LA DIRECCIÓN DE LA CARPETA PRINCIPAL ---\n",
    "# '..' significa \"subir un nivel de carpeta\" (de 'notebooks' a 'predictor_mlb')\n",
    "# Esto le permite a Python encontrar la carpeta 'src'\n",
    "sys.path.insert(0, os.path.abspath('..'))\n",
    "\n",
    "# --- 3. AHORA ESTA LÍNEA FUNCIONARÁ SIN ERRORES ---\n",
    "from src.feature_engineering import add_pythagorean_expectation\n",
    "\n",
    "print(\"--- Fase 1: Mejora del Modelo con Ingeniería de Características ---\")\n",
    "\n",
    "# 1. Cargar el dataset\n",
    "csv_path = os.path.join('..', 'data', 'historical_game_data_with_features.csv')\n",
    "df = pd.read_csv(csv_path)\n",
    "print(f\"Dataset original cargado con {df.shape} filas.\")\n",
    "\n",
    "# 2. ¡APLICAR LA INGENIERÍA DE CARACTERÍSTICAS!\n",
    "# Esta es la línea clave. Tomamos nuestro DataFrame y le añadimos la nueva columna.\n",
    "df_enhanced = add_pythagorean_expectation(df)\n",
    "print(f\"Dataset mejorado ahora tiene {df_enhanced.shape[1]} columnas.\")\n",
    "\n",
    "# 3. Preparar los datos con la nueva característica\n",
    "y = df_enhanced['target']\n",
    "# Ahora incluimos la nueva característica 'pythag_diff' en nuestros datos de entrenamiento 'X'\n",
    "features_to_use = ['h_team_wins_season', 'h_team_losses_season', 'v_team_wins_season', 'v_team_losses_season', 'pythag_diff']\n",
    "X = df_enhanced[features_to_use]\n",
    "\n",
    "print(\"\\nNuevas características para entrenar:\")\n",
    "print(X.columns.tolist())\n",
    "\n",
    "X_train, X_test, y_train, y_test = train_test_split(X, y, test_size=0.2, random_state=42)\n",
    "\n",
    "# 4. Entrenar y Evaluar el NUEVO modelo\n",
    "print(\"\\nEntrenando nuevo modelo con características mejoradas...\")\n",
    "model_v2 = RandomForestClassifier(n_estimators=100, random_state=42, n_jobs=-1)\n",
    "model_v2.fit(X_train, y_train)\n",
    "print(\"¡Nuevo modelo entrenado!\")\n",
    "\n",
    "predictions_v2 = model_v2.predict(X_test)\n",
    "new_accuracy = accuracy_score(y_test, predictions_v2)\n",
    "\n",
    "print(\"\\n\" + \"=\"*50)\n",
    "print(f\"  PRECISIÓN ANTERIOR (Línea Base): 0.5585\")\n",
    "print(f\"  PRECISIÓN NUEVA (con Expectativa Pitagórica): {new_accuracy:.4f}\")\n",
    "print(\"=\"*50)\n",
    "\n",
    "# Comparamos para ver la mejora\n",
    "improvement = new_accuracy - 0.5585\n",
    "print(f\"\\n¡Mejora de precisión: {improvement:+.2%}!\")\n",
    "\n",
    "# 5. Guardar el modelo mejorado (si quieres reemplazar el anterior)\n",
    "# assets_dir = os.path.join('..', 'src', 'assets')\n",
    "# model_path_v2 = os.path.join(assets_dir, 'mlb_model_v2.joblib')\n",
    "# joblib.dump(model_v2, model_path_v2)\n",
    "# print(f\"Modelo v2 guardado en '{model_path_v2}'\")"
   ]
  },
  {
   "cell_type": "code",
   "execution_count": null,
   "id": "23874c7e-d94d-4d8d-86e6-0f90661b0729",
   "metadata": {},
   "outputs": [],
   "source": []
  }
 ],
 "metadata": {
  "kernelspec": {
   "display_name": "Python 3 (ipykernel)",
   "language": "python",
   "name": "python3"
  },
  "language_info": {
   "codemirror_mode": {
    "name": "ipython",
    "version": 3
   },
   "file_extension": ".py",
   "mimetype": "text/x-python",
   "name": "python",
   "nbconvert_exporter": "python",
   "pygments_lexer": "ipython3",
   "version": "3.11.9"
  }
 },
 "nbformat": 4,
 "nbformat_minor": 5
}
