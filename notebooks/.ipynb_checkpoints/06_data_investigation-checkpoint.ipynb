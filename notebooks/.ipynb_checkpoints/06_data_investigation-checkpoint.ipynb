{
 "cells": [
  {
   "cell_type": "code",
   "execution_count": 1,
   "id": "5dff4547-709f-4875-8226-6b23bde645dd",
   "metadata": {},
   "outputs": [
    {
     "name": "stdout",
     "output_type": "stream",
     "text": [
      "--- Investigando la Calidad de los Datos de Lanzadores ---\n",
      "\n",
      "Total de partidos en el dataset: 2476\n",
      "Partidos con datos de lanzador faltantes (ERA = 99.0): 2476\n",
      "Porcentaje de datos de lanzador de mala calidad: 100.00%\n",
      "\n",
      "============================================================\n",
      "CONCLUSIÓN: Si este porcentaje es alto, significa que hemos introducido\n",
      "mucho 'ruido' en el modelo, lo que explica la bajada de precisión.\n",
      "============================================================\n"
     ]
    }
   ],
   "source": [
    "import pandas as pd\n",
    "import os\n",
    "\n",
    "print(\"--- Investigando la Calidad de los Datos de Lanzadores ---\")\n",
    "\n",
    "# Cargar el dataset experto\n",
    "csv_path = os.path.join('..', 'data', 'historical_games_expert.csv')\n",
    "df = pd.read_csv(csv_path)\n",
    "\n",
    "# Contar cuántas filas tienen el ERA por defecto que pusimos cuando no había datos\n",
    "default_era_count = len(df[df['h_pitcher_era'] == 99.0])\n",
    "total_games = len(df)\n",
    "percentage_bad_data = (default_era_count / total_games) * 100\n",
    "\n",
    "print(f\"\\nTotal de partidos en el dataset: {total_games}\")\n",
    "print(f\"Partidos con datos de lanzador faltantes (ERA = 99.0): {default_era_count}\")\n",
    "print(f\"Porcentaje de datos de lanzador de mala calidad: {percentage_bad_data:.2f}%\")\n",
    "\n",
    "print(\"\\n\" + \"=\"*60)\n",
    "print(\"CONCLUSIÓN: Si este porcentaje es alto, significa que hemos introducido\")\n",
    "print(\"mucho 'ruido' en el modelo, lo que explica la bajada de precisión.\")\n",
    "print(\"=\"*60)"
   ]
  },
  {
   "cell_type": "code",
   "execution_count": null,
   "id": "f4c8437d-d096-412d-a450-838ebec43b54",
   "metadata": {},
   "outputs": [],
   "source": []
  }
 ],
 "metadata": {
  "kernelspec": {
   "display_name": "Python 3 (ipykernel)",
   "language": "python",
   "name": "python3"
  },
  "language_info": {
   "codemirror_mode": {
    "name": "ipython",
    "version": 3
   },
   "file_extension": ".py",
   "mimetype": "text/x-python",
   "name": "python",
   "nbconvert_exporter": "python",
   "pygments_lexer": "ipython3",
   "version": "3.11.9"
  }
 },
 "nbformat": 4,
 "nbformat_minor": 5
}
